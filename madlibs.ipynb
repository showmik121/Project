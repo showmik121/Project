{
 "cells": [
  {
   "cell_type": "code",
   "execution_count": 2,
   "id": "ae41a714",
   "metadata": {},
   "outputs": [
    {
     "name": "stdout",
     "output_type": "stream",
     "text": [
      "subscribe to the papilion\n"
     ]
    }
   ],
   "source": [
    "youtuber=\"papilion\"\n",
    "print(f\"subscribe to the {youtuber}\")"
   ]
  },
  {
   "cell_type": "code",
   "execution_count": 3,
   "id": "223f5d4f",
   "metadata": {},
   "outputs": [
    {
     "name": "stdout",
     "output_type": "stream",
     "text": [
      "Computer programming is so booring!.It makes me so excited all the time because \\ I love to work.Stay hydrated and motivated Like you are abul!\n"
     ]
    }
   ],
   "source": [
    "adj=input(\"Adjective: \")\n",
    "verb1=input(\"verb: \")\n",
    "verb2=input(\"Verb: \")\n",
    "famous_person=input(\"Famous person: \")\n",
    "madlib=f\"Computer programming is so {adj}!.It makes me so excited all the time because \\ I love to {verb1}.Stay hydrated and {verb2} Like you are {famous_person}!\"\n",
    "print(madlib)"
   ]
  },
  {
   "cell_type": "markdown",
   "id": "4948d330",
   "metadata": {},
   "source": [
    "Guess the number"
   ]
  },
  {
   "cell_type": "code",
   "execution_count": 5,
   "id": "4adf7ac2",
   "metadata": {},
   "outputs": [
    {
     "name": "stdout",
     "output_type": "stream",
     "text": [
      "too low!\n",
      "too low!\n",
      "too low!\n",
      "too low!\n",
      "yo.....you guess the right one!\n"
     ]
    }
   ],
   "source": [
    "import random\n",
    "\n",
    "def guess(x):\n",
    "    random_number=random.randint(1,x)\n",
    "    guess=0\n",
    "    while guess!=random_number:\n",
    "        guess=int(input(f\"Guess a number between 1 and {x}: \"))\n",
    "        if guess < random_number:\n",
    "            print(\"too low!\")\n",
    "        elif guess > random_number:\n",
    "            print(\"too high!\")\n",
    "        else:\n",
    "            print(\"yo.....you guess the right one!\")\n",
    "    \n",
    "guess(10)"
   ]
  },
  {
   "cell_type": "markdown",
   "id": "9f1124ed",
   "metadata": {},
   "source": [
    "Guess the number (User)"
   ]
  },
  {
   "cell_type": "code",
   "execution_count": 1,
   "id": "d4f752e7",
   "metadata": {},
   "outputs": [
    {
     "name": "stdout",
     "output_type": "stream",
     "text": [
      "Yah! computer guess the answer...\n"
     ]
    }
   ],
   "source": [
    "import random\n",
    "\n",
    "def guess(x):\n",
    "    random_number=random.randint(1,x)\n",
    "    guess=0\n",
    "    while guess!=random_number:\n",
    "        guess=int(input(f\"Guess a number between 1 and {x}: \"))\n",
    "        if guess < random_number:\n",
    "            print(\"too low!\")\n",
    "        elif guess > random_number:\n",
    "            print(\"too high!\")\n",
    "        else:\n",
    "            print(\"yo.....you guess the right one!\")\n",
    "\n",
    "def computer_guess(x):\n",
    "     low =1\n",
    "     high=x\n",
    "     feedback=''\n",
    "     while feedback !='c':\n",
    "         guess=random.randint(low,high)\n",
    "         feedback=input(f\"If {guess} is too high (h), too low (l),correct is (c) \")\n",
    "         if feedback =='h':\n",
    "             high=guess-1\n",
    "         elif feedback=='l':\n",
    "             low =guess+1\n",
    "     print(\"Yah! computer guess the answer...\")\n",
    "\n",
    "computer_guess(10)\n",
    "    \n",
    "         \n",
    "    \n",
    "         "
   ]
  }
 ],
 "metadata": {
  "kernelspec": {
   "display_name": "venv (3.10.11)",
   "language": "python",
   "name": "python3"
  },
  "language_info": {
   "codemirror_mode": {
    "name": "ipython",
    "version": 3
   },
   "file_extension": ".py",
   "mimetype": "text/x-python",
   "name": "python",
   "nbconvert_exporter": "python",
   "pygments_lexer": "ipython3",
   "version": "3.10.11"
  }
 },
 "nbformat": 4,
 "nbformat_minor": 5
}
