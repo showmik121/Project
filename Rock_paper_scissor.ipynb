{
 "cells": [
  {
   "cell_type": "code",
   "execution_count": 4,
   "id": "ffd6522b",
   "metadata": {},
   "outputs": [
    {
     "data": {
      "text/plain": [
       "'Youn won'"
      ]
     },
     "execution_count": 4,
     "metadata": {},
     "output_type": "execute_result"
    }
   ],
   "source": [
    "import random\n",
    "def play():\n",
    "    user=input(\"'r' for rock ,'p' for paper, 's' for scessior: \")\n",
    "    computer = random.choice(['r','s','p'])\n",
    "    if user==computer:\n",
    "        return 'tie'\n",
    "    if win(user,computer):\n",
    "        return 'Youn won'\n",
    "    else:\n",
    "        return 'you lost'\n",
    "        \n",
    "    \n",
    "def win(user,computer):\n",
    "    if((user=='r' and computer=='s') or (user=='s' and  computer=='p') or (user=='p' and computer=='r')):\n",
    "        return True\n",
    "    # else:\n",
    "    #     return False\n",
    "\n",
    "play()"
   ]
  }
 ],
 "metadata": {
  "kernelspec": {
   "display_name": "venv (3.10.11)",
   "language": "python",
   "name": "python3"
  },
  "language_info": {
   "codemirror_mode": {
    "name": "ipython",
    "version": 3
   },
   "file_extension": ".py",
   "mimetype": "text/x-python",
   "name": "python",
   "nbconvert_exporter": "python",
   "pygments_lexer": "ipython3",
   "version": "3.10.11"
  }
 },
 "nbformat": 4,
 "nbformat_minor": 5
}
